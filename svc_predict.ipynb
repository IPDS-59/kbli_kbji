{
 "cells": [
  {
   "cell_type": "code",
   "execution_count": 1,
   "id": "10e43f5c-ce34-4779-8da6-6764703021d1",
   "metadata": {},
   "outputs": [],
   "source": [
    "import pandas as pd\n",
    "import nltk\n",
    "import pickle\n",
    "\n",
    "from Sastrawi.Stemmer.StemmerFactory import StemmerFactory\n",
    "from sklearn.feature_extraction.text import CountVectorizer, TfidfTransformer"
   ]
  },
  {
   "cell_type": "code",
   "execution_count": 2,
   "id": "907b6f33-5060-40a2-8a01-1a8a81296bd6",
   "metadata": {},
   "outputs": [],
   "source": [
    "INPUT = 'sqllab_untitled_query_1_20240821T043054.csv'\n",
    "OUTPUT = 'hasil_pemeriksaan_KBLI_KBJI_2024-8-21.xlsx'"
   ]
  },
  {
   "cell_type": "code",
   "execution_count": 16,
   "id": "6679eb6f-e485-416b-8105-4e493dacf582",
   "metadata": {},
   "outputs": [],
   "source": [
    "if INPUT.split('.')[-1] == 'csv':\n",
    "    df = pd.read_csv(INPUT, dtype='str')\n",
    "else:\n",
    "    df = pd.read_excel(INPUT, dtype='str')"
   ]
  },
  {
   "cell_type": "code",
   "execution_count": 17,
   "id": "086e8033-428a-43ba-a21d-34266c1b467e",
   "metadata": {},
   "outputs": [],
   "source": [
    "# Preprocessing functions\n",
    "# nltk.download('punkt')\n",
    "# nltk.download('stopwords')\n",
    "stopwords = set(nltk.corpus.stopwords.words('indonesian'))\n",
    "factory = StemmerFactory()\n",
    "stemmer = factory.create_stemmer()\n",
    "\n",
    "def preprocess_text(text):\n",
    "    tokens = nltk.word_tokenize(text)\n",
    "    cleaned_tokens = [stemmer.stem(token) for token in tokens if token.lower() not in stopwords]\n",
    "    return \" \".join(cleaned_tokens)"
   ]
  },
  {
   "cell_type": "code",
   "execution_count": 18,
   "id": "c4fd215d-96ff-4501-941a-615b9683c14e",
   "metadata": {},
   "outputs": [],
   "source": [
    "df.loc[:, 'combined_features'] = (\n",
    "    'usaha ' + df['usaha'].apply(preprocess_text) + ' produk ' + df['produk'].apply(preprocess_text) + ' bidang ' + df['bidang'].apply(preprocess_text))\n",
    "\n",
    "# Split data into features and labels\n",
    "X = df['combined_features']\n",
    "y = df['kbli']"
   ]
  },
  {
   "cell_type": "code",
   "execution_count": 19,
   "id": "d5e916ee-6bb0-4320-bee6-4583086e1e6d",
   "metadata": {},
   "outputs": [],
   "source": [
    "with open('parameters/svm_kbli_count_vectorizer.pkl', 'rb') as f:\n",
    "    kbli_count_vect = pickle.load(f)\n",
    "\n",
    "with open('parameters/svm_kbli_tfidf_transformer.pkl', 'rb') as f:\n",
    "    kbli_tfidf_transformer = pickle.load(f)\n",
    "\n",
    "with open('parameters/svm_kbli_model.pkl', 'rb') as f:\n",
    "    kbli_model = pickle.load(f)\n",
    "\n",
    "with open('parameters/svm_kbji_count_vectorizer.pkl', 'rb') as f:\n",
    "    kbji_count_vect = pickle.load(f)\n",
    "\n",
    "with open('parameters/svm_kbji_tfidf_transformer.pkl', 'rb') as f:\n",
    "    kbji_tfidf_transformer = pickle.load(f)\n",
    "\n",
    "with open('parameters/svm_kbji_model.pkl', 'rb') as f:\n",
    "    kbji_model = pickle.load(f)"
   ]
  },
  {
   "cell_type": "code",
   "execution_count": 20,
   "id": "1164f47f-af56-44ff-9d90-ec30e61e6e12",
   "metadata": {},
   "outputs": [],
   "source": [
    "X_kbli_counts = kbli_count_vect.transform(X)\n",
    "X_kbji_counts = kbji_count_vect.transform(X)\n",
    "X_kbli_tfidf = kbli_tfidf_transformer.transform(X_kbli_counts)\n",
    "X_kbji_tfidf = kbji_tfidf_transformer.transform(X_kbji_counts)\n",
    "\n",
    "kbli_predictions = kbli_model.predict(X_kbli_tfidf)\n",
    "kbji_predictions = kbji_model.predict(X_kbji_tfidf)"
   ]
  },
  {
   "cell_type": "code",
   "execution_count": 21,
   "id": "b0f69a26-de7e-44c7-bf6a-61e5bb8e4dfb",
   "metadata": {},
   "outputs": [],
   "source": [
    "df.loc[:, 'kbli_predicted'] = kbli_predictions\n",
    "df.loc[:, 'kbji_predicted'] = kbji_predictions"
   ]
  },
  {
   "cell_type": "code",
   "execution_count": 22,
   "id": "43155bc3-3d09-4f57-a498-e6c6dacd6b44",
   "metadata": {},
   "outputs": [],
   "source": [
    "df['match'] = 'KBLI dan KBJI berbeda'\n",
    "df.loc[\n",
    "    (df['kbli'] == df['kbli_predicted']) & (df['kbji'] == df['kbji_predicted']),\n",
    "    'match'\n",
    "] = 'KBLI dan KBJI sama'\n",
    "\n",
    "df.loc[\n",
    "    (df['kbli'] == df['kbli_predicted']) & (df['kbji'] != df['kbji_predicted']),\n",
    "    'match'\n",
    "] = 'KBJI berbeda'\n",
    "\n",
    "df.loc[\n",
    "    (df['kbli'] != df['kbli_predicted']) & (df['kbji'] == df['kbji_predicted']),\n",
    "    'match'\n",
    "] = 'KBLI berbeda'"
   ]
  },
  {
   "cell_type": "code",
   "execution_count": 24,
   "id": "181d8608-efa9-4cd3-8516-ff884703a1b1",
   "metadata": {},
   "outputs": [],
   "source": [
    "df.drop('combined_features', axis=1).to_excel(OUTPUT, index=False)"
   ]
  },
  {
   "cell_type": "code",
   "execution_count": null,
   "id": "bd6a0aef-2eec-4066-b2ab-1d5c1e2ba144",
   "metadata": {},
   "outputs": [],
   "source": []
  }
 ],
 "metadata": {
  "kernelspec": {
   "display_name": "Python 3 (ipykernel)",
   "language": "python",
   "name": "python3"
  },
  "language_info": {
   "codemirror_mode": {
    "name": "ipython",
    "version": 3
   },
   "file_extension": ".py",
   "mimetype": "text/x-python",
   "name": "python",
   "nbconvert_exporter": "python",
   "pygments_lexer": "ipython3",
   "version": "3.12.1"
  }
 },
 "nbformat": 4,
 "nbformat_minor": 5
}
